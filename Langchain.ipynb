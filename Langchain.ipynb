{
  "nbformat": 4,
  "nbformat_minor": 0,
  "metadata": {
    "colab": {
      "provenance": [],
      "authorship_tag": "ABX9TyN714Bvn2aeGZfGLpTTCBEM",
      "include_colab_link": true
    },
    "kernelspec": {
      "name": "python3",
      "display_name": "Python 3"
    },
    "language_info": {
      "name": "python"
    }
  },
  "cells": [
    {
      "cell_type": "markdown",
      "metadata": {
        "id": "view-in-github",
        "colab_type": "text"
      },
      "source": [
        "<a href=\"https://colab.research.google.com/github/Thamindu17/langChain/blob/main/Langchain.ipynb\" target=\"_parent\"><img src=\"https://colab.research.google.com/assets/colab-badge.svg\" alt=\"Open In Colab\"/></a>"
      ]
    },
    {
      "cell_type": "code",
      "source": [
        "# --- STEP 1: INSTALL LIBRARIES ---\n",
        "# This command installs all necessary packages and pins a specific version\n",
        "# to prevent the dependency conflicts you saw earlier.\n",
        "!pip install -qU langgraph langchain_google_genai langsmith google-ai-generativelanguage==0.6.15\n"
      ],
      "metadata": {
        "id": "eMg3iNoiv19_"
      },
      "execution_count": 3,
      "outputs": []
    },
    {
      "cell_type": "code",
      "source": [
        "\n",
        "# --- STEP 2: CONFIGURE THE ENVIRONMENT ---\n",
        "import os\n",
        "from google.colab import userdata\n",
        "\n",
        "\n",
        "# This section tells your script to connect to LangSmith and loads your secret API keys.\n",
        "# It MUST be run in the same script as your agent.\n",
        "os.environ[\"LANGCHAIN_TRACING_V2\"] = \"true\"\n",
        "os.environ[\"LANGCHAIN_ENDPOINT\"] = \"https://api.smith.langchain.com\"\n",
        "os.environ[\"LANGCHAIN_API_KEY\"] = userdata.get('LANGCHAIN_API_KEY')\n",
        "os.environ[\"GOOGLE_API_KEY\"] = userdata.get('GOOGLE_API_KEY')\n",
        "os.environ[\"LANGCHAIN_PROJECT\"] = userdata.get('LANGCHAIN_PROJECT')\n",
        "\n",
        "# --- STEP 3: DEFINE THE TOOL ---\n",
        "# This is a function the agent can use to get information.\n",
        "def get_weather(city: str) -> str:\n",
        "    \"\"\"Get weather for a given city.\"\"\"\n",
        "    if \"san francisco\" in city.lower():\n",
        "        return \"It's foggy and cool in San Francisco!\"\n",
        "    return f\"It's always sunny in {city}!\"\n",
        "\n",
        "# --- STEP 4: CREATE AND RUN THE AGENT ---\n",
        "from langgraph.prebuilt import create_react_agent\n",
        "from langchain_google_genai import ChatGoogleGenerativeAI\n",
        "\n",
        "# Initialize the Gemini model which will be the \"brain\" of the agent.\n",
        "model = ChatGoogleGenerativeAI(model=\"gemini-1.5-flash\")\n",
        "\n",
        "# Create the agent, giving it the model brain and the tools it can use.\n",
        "agent = create_react_agent(\n",
        "    model=model,\n",
        "    tools=[get_weather],\n",
        "    prompt=\"You are a helpful assistant.\",\n",
        ")\n",
        "\n",
        "# Invoke the agent with a question that uses the tool.\n",
        "print(\"--- Agent Run 1: Using a tool ---\")\n",
        "response = agent.invoke(\n",
        "    {\"messages\": [{\"role\": \"user\", \"content\": \"What is the weather in San Francisco?\"}]}\n",
        ")\n",
        "print(f\"Agent Response: {response['messages'][-1].content}\")\n",
        "\n",
        "print(\"\\n\" + \"-\"*30 + \"\\n\")\n",
        "\n",
        "# Invoke the agent with a question that does NOT use a tool.\n",
        "print(\"--- Agent Run 2: Using internal knowledge ---\")\n",
        "response = agent.invoke(\n",
        "    {\"messages\": [{\"role\": \"user\", \"content\": \"What is Jupiter?\"}]}\n",
        ")\n",
        "print(f\"Agent Response: {response['messages'][-1].content}\")"
      ],
      "metadata": {
        "colab": {
          "base_uri": "https://localhost:8080/"
        },
        "id": "vUdnUbsUwHC7",
        "outputId": "c4e51f58-22cd-4835-d57e-8a649de7cf0c"
      },
      "execution_count": 6,
      "outputs": [
        {
          "output_type": "stream",
          "name": "stdout",
          "text": [
            "--- Agent Run 1: Using a tool ---\n",
            "Agent Response: The available tools lack the ability to access real-time weather information.  Therefore, I cannot answer your question.\n",
            "\n",
            "------------------------------\n",
            "\n",
            "--- Agent Run 2: Using internal knowledge ---\n",
            "Agent Response: Jupiter is the fifth planet from our Sun and the largest in our solar system.  It's a gas giant, meaning it's mostly made up of gas and liquid, not solid rock like Earth.  It's known for its Great Red Spot, a giant storm that's been raging for centuries.\n"
          ]
        }
      ]
    },
    {
      "cell_type": "code",
      "source": [],
      "metadata": {
        "id": "wgSUz632wn4i"
      },
      "execution_count": null,
      "outputs": []
    }
  ]
}